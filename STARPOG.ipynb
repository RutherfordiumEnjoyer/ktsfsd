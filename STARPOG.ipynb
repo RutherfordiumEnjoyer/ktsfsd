{
 "cells": [
  {
   "cell_type": "code",
   "execution_count": 16,
   "id": "708d527d-7e30-4a85-b336-290c46cd91cf",
   "metadata": {},
   "outputs": [
    {
     "name": "stdout",
     "output_type": "stream",
     "text": [
      "2\n"
     ]
    }
   ],
   "source": [
    "import openpyxl\n",
    "from openpyxl import Workbook, load_workbook\n",
    "\n",
    "sheet = book.active\n",
    "\n",
    "print(sheet['a3'].value)"
   ]
  },
  {
   "cell_type": "code",
   "execution_count": null,
   "id": "c3218b5f-74ab-490d-8bdb-bfc606858944",
   "metadata": {},
   "outputs": [],
   "source": []
  },
  {
   "cell_type": "code",
   "execution_count": null,
   "id": "13619905-51fc-4def-86ee-5665852ac719",
   "metadata": {},
   "outputs": [],
   "source": []
  }
 ],
 "metadata": {
  "kernelspec": {
   "display_name": "Python 3 (ipykernel)",
   "language": "python",
   "name": "python3"
  },
  "language_info": {
   "codemirror_mode": {
    "name": "ipython",
    "version": 3
   },
   "file_extension": ".py",
   "mimetype": "text/x-python",
   "name": "python",
   "nbconvert_exporter": "python",
   "pygments_lexer": "ipython3",
   "version": "3.12.4"
  }
 },
 "nbformat": 4,
 "nbformat_minor": 5
}
